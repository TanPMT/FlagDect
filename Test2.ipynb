{
  "nbformat": 4,
  "nbformat_minor": 0,
  "metadata": {
    "colab": {
      "provenance": [],
      "authorship_tag": "ABX9TyMRl3aLba/XJkg+kdFXxlNy",
      "include_colab_link": true
    },
    "kernelspec": {
      "name": "python3",
      "display_name": "Python 3"
    },
    "language_info": {
      "name": "python"
    }
  },
  "cells": [
    {
      "cell_type": "markdown",
      "metadata": {
        "id": "view-in-github",
        "colab_type": "text"
      },
      "source": [
        "<a href=\"https://colab.research.google.com/github/TanPMT/FlagDect/blob/trung/Test2.ipynb\" target=\"_parent\"><img src=\"https://colab.research.google.com/assets/colab-badge.svg\" alt=\"Open In Colab\"/></a>"
      ]
    },
    {
      "cell_type": "code",
      "execution_count": 1,
      "metadata": {
        "colab": {
          "base_uri": "https://localhost:8080/"
        },
        "id": "mdb3S6OkF8gs",
        "outputId": "7df2de55-a275-4736-fdcb-387dfed52469"
      },
      "outputs": [
        {
          "output_type": "stream",
          "name": "stdout",
          "text": [
            "Mounted at /gdrive\n"
          ]
        }
      ],
      "source": [
        "from google.colab import drive\n",
        "drive.mount('/gdrive')\n"
      ]
    },
    {
      "cell_type": "code",
      "source": [
        "\n",
        "import numpy as np\n",
        "from sklearn.linear_model import LogisticRegression\n",
        "from sklearn.metrics import accuracy_score\n",
        "import cv2\n",
        "import os\n",
        "import pandas as pd\n",
        "from PIL import Image\n",
        "\n",
        "\n",
        "\n",
        "def extract_color_histogram(image, crop_box=(60, 116, 254, 218), bins=(8, 8, 8)):\n",
        "    # Crop ảnh\n",
        "    cropped_image = image[crop_box[1]:crop_box[3], crop_box[0]:crop_box[2]]\n",
        "    # Chuyển đổi ảnh sau khi crop sang không gian màu RGB\n",
        "    rgb = cv2.cvtColor(cropped_image, cv2.COLOR_BGR2RGB)\n",
        "    # Tính toán histogram màu sắc\n",
        "    hist = cv2.calcHist([rgb], [0, 1, 2], None, bins, [0, 256, 0, 256, 0, 256])\n",
        "    # Chuẩn hóa histogram\n",
        "    cv2.normalize(hist, hist)\n",
        "    # Trả về histogram đã làm phẳng\n",
        "    return hist.flatten()\n",
        "\n",
        "\n",
        "def load_and_extract_features(data_path):\n",
        "    features = []\n",
        "    labels = []\n",
        "    for idx, filename in enumerate(os.listdir(data_path)):\n",
        "\n",
        "    # Kiểm tra xem tệp có phải là ảnh không\n",
        "      if filename.endswith(\".jpg\") or filename.endswith(\".jpeg\") or filename.endswith(\".png\"):\n",
        "        # Đường dẫn đầy đủ đến tệp ảnh\n",
        "        image_path = os.path.join(data_path, filename)\n",
        "        label = filename.split(\".\")[0]\n",
        "        # Đọc ảnh từ đường dẫn\n",
        "        image = cv2.imread(image_path)\n",
        "\n",
        "\n",
        "        # Tính đặc trưng của ảnh và thêm vào danh sách đặc trưng\n",
        "        hist = extract_color_histogram(image)\n",
        "            # if (label == 'Laos' or label == \"Yemen\" or label == \"Vietnam\" or label == \"Japan\" or label == \"Jordan\"):\n",
        "        #   print(label)\n",
        "        labels.append(label)\n",
        "        features.append(hist)\n",
        "\n",
        "    # Chuyển danh sách features và labels thành mảng numpy\n",
        "    return np.array(features), np.array(labels)"
      ],
      "metadata": {
        "id": "nNfvUgzAGLJR"
      },
      "execution_count": 2,
      "outputs": []
    },
    {
      "cell_type": "code",
      "source": [
        "train_path = \"/gdrive/MyDrive/TrainModel/Dataset/train\"\n",
        "valid_path = \"/gdrive/MyDrive/TrainModel/Dataset/valid\"\n",
        "#test_path = \"/gdrive/MyDrive/Ảnh/test\"\n",
        "# image_path = \"/gdrive/MyDrive/CS231.O21.2/Baitap/Baitap3/dogscats_small/train/cat.1.jpg\"\n",
        "# image = cv2.imread(image_path)\n",
        "# cv2_imshow(image)\n",
        "trainX, trainY = load_and_extract_features(train_path)\n",
        "validX, validY = load_and_extract_features(valid_path)\n",
        "#testX, testY = load_and_extract_features(test_path)"
      ],
      "metadata": {
        "id": "WQzvvGP7HYfz"
      },
      "execution_count": 3,
      "outputs": []
    },
    {
      "cell_type": "code",
      "source": [
        "test_path = \"/gdrive/MyDrive/TrainModel/Dataset/test\"\n",
        "testX, testY = load_and_extract_features(test_path)"
      ],
      "metadata": {
        "id": "1G4JP0bXYAuB"
      },
      "execution_count": 16,
      "outputs": []
    },
    {
      "cell_type": "code",
      "source": [
        "from sklearn.linear_model import LogisticRegression\n",
        "from sklearn.metrics import accuracy_score\n",
        "from google.colab.patches import cv2_imshow\n",
        "model = LogisticRegression(multi_class='multinomial', solver='lbfgs', max_iter=1000)\n",
        "\n",
        "# Huấn luyện mô hình trên dữ liệu huấn luyện\n",
        "model.fit(trainX, trainY)\n",
        "\n",
        "trainAcc = model.score(validX, validY)\n",
        "print(\"Accuracy of train: \", trainAcc)\n",
        "\n",
        "#========================================================\n",
        "#========================================================\n",
        "\n",
        "\n"
      ],
      "metadata": {
        "id": "Tgs4Y25RHBdA"
      },
      "execution_count": null,
      "outputs": []
    },
    {
      "cell_type": "code",
      "source": [
        "from sklearn.neighbors import KNeighborsClassifier\n",
        "from sklearn.metrics import accuracy_score\n",
        "\n",
        "# Khởi tạo mô hình KNN với số lượng láng giềng k=5 (có thể điều chỉnh)\n",
        "model_2 = KNeighborsClassifier(n_neighbors=3)\n",
        "\n",
        "# Huấn luyện mô hình trên dữ liệu huấn luyện\n",
        "model_2.fit(trainX, trainY)\n",
        "\n",
        "# Đánh giá độ chính xác của mô hình trên tập validation\n",
        "validAcc = model_2.score(validX, validY)\n",
        "print(\"Accuracy of validation: \", validAcc)\n"
      ],
      "metadata": {
        "id": "APiNH81lRWo8",
        "colab": {
          "base_uri": "https://localhost:8080/"
        },
        "outputId": "9edd984a-73cf-4504-b823-a1ce4e81d3aa"
      },
      "execution_count": null,
      "outputs": [
        {
          "output_type": "stream",
          "name": "stdout",
          "text": [
            "Accuracy of validation:  0.515748031496063\n"
          ]
        }
      ]
    },
    {
      "cell_type": "code",
      "source": [
        "image_path = \"/gdrive/MyDrive/TrainModel/Dataset/train/Vietnam.18.jpg\"\n",
        "\n",
        "image = cv2.imread(image_path)\n",
        "cv2_imshow(image)\n",
        "# Trích xuất đặc trưng từ ảnh\n",
        "hist =  extract_color_histogram(image)\n",
        "\n",
        "# Reshape đặc trưng để phù hợp với mô hình\n",
        "hist = hist.reshape(1,-1)\n",
        "\n",
        "# Dự đoán nhãn của ảnh\n",
        "predicted_label = model_2.predict(hist)\n",
        "\n",
        "# In kết quả dự đoán\n",
        "print(\"Predicted label:\", predicted_label)"
      ],
      "metadata": {
        "id": "FqgKU3ByLLks"
      },
      "execution_count": null,
      "outputs": []
    },
    {
      "cell_type": "code",
      "source": [
        "import xgboost as xgb\n",
        "import lightgbm as lgb\n",
        "from sklearn.svm import SVC\n",
        "\n",
        "\n",
        "#model = LogisticRegression(max_iter=1000)\n",
        "#model = KNeighborsClassifier()\n",
        "\n",
        "\n",
        "# Khởi tạo mô hình XGBoost\n",
        "# model = xgb.XGBClassifier()\n",
        "#model = SVC(kernel='linear', C=1.0, probability=True)\n",
        "# Khởi tạo mô hình LightGBM\n",
        "model_ver2 = lgb.LGBMClassifier()\n",
        "# Compile mô hình\n",
        "model_ver2.fit(trainX, trainY)"
      ],
      "metadata": {
        "id": "ngcogbaOSugz"
      },
      "execution_count": null,
      "outputs": []
    },
    {
      "cell_type": "code",
      "source": [
        "image_path = \"/gdrive/MyDrive/TrainModel/Dataset/train/Yemen.2.jpg\"\n",
        "\n",
        "image = cv2.imread(image_path)\n",
        "cv2_imshow(image)\n",
        "# Trích xuất đặc trưng từ ảnh\n",
        "hist =  extract_color_histogram(image)\n",
        "\n",
        "# Reshape đặc trưng để phù hợp với mô hình\n",
        "hist = hist.reshape(1,-1)\n",
        "\n",
        "# Dự đoán nhãn của ảnh\n",
        "predicted_label = model_ver2.predict(hist)\n",
        "\n",
        "# In kết quả dự đoán\n",
        "print(\"Predicted label:\", predicted_label)"
      ],
      "metadata": {
        "colab": {
          "base_uri": "https://localhost:8080/",
          "height": 354
        },
        "id": "6t7ecFj-3UmA",
        "outputId": "0ed304e6-081c-4139-ad4e-15ab98005694"
      },
      "execution_count": null,
      "outputs": [
        {
          "output_type": "display_data",
          "data": {
            "text/plain": [
              "<PIL.Image.Image image mode=RGB size=320x320>"
            ],
            "image/png": "[encoded data removed]"
          },
          "metadata": {}
        },
        {
          "output_type": "stream",
          "name": "stdout",
          "text": [
            "Predicted label: ['Yemen']\n"
          ]
        }
      ]
    },
    {
      "cell_type": "code",
      "source": [
        "validAcc = model.score(validX, validY)\n",
        "print(\"Accuracy of validation: \", validAcc)"
      ],
      "metadata": {
        "colab": {
          "base_uri": "https://localhost:8080/"
        },
        "id": "C0VE4VhJ393d",
        "outputId": "650ffcaf-6eee-4298-b229-25393885b183"
      },
      "execution_count": null,
      "outputs": [
        {
          "output_type": "stream",
          "name": "stdout",
          "text": [
            "Accuracy of validation:  0.7244094488188977\n"
          ]
        }
      ]
    },
    {
      "cell_type": "code",
      "source": [
        "validAcc = model_ver2.score(validX, validY)\n",
        "print(\"Accuracy of validation: \", validAcc)"
      ],
      "metadata": {
        "colab": {
          "base_uri": "https://localhost:8080/"
        },
        "id": "80ZUEXCIlHdJ",
        "outputId": "22ca03b0-86c9-4430-b599-5ba67da2c43e"
      },
      "execution_count": null,
      "outputs": [
        {
          "output_type": "stream",
          "name": "stdout",
          "text": [
            "Accuracy of validation:  0.8937007874015748\n"
          ]
        }
      ]
    },
    {
      "cell_type": "code",
      "source": [
        "from sklearn.ensemble import RandomForestClassifier\n",
        "from sklearn.metrics import accuracy_score\n",
        "\n",
        "# Khởi tạo mô hình Random Forest với số cây con là 100 (có thể điều chỉnh)\n",
        "model = RandomForestClassifier(n_estimators=100)\n",
        "\n",
        "# Huấn luyện mô hình trên dữ liệu huấn luyện (trainX là các đặc trưng, trainY là nhãn)\n",
        "model.fit(trainX, trainY)\n",
        "\n",
        "# Dự đoán nhãn cho dữ liệu validation\n",
        "valid_pred = model.predict(validX)\n",
        "\n",
        "# Đánh giá độ chính xác của mô hình trên tập validation\n",
        "valid_acc = accuracy_score(validY, valid_pred)\n",
        "print(\"Accuracy on validation set:\", valid_acc)\n"
      ],
      "metadata": {
        "id": "LlTcwYqu5N9Y"
      },
      "execution_count": null,
      "outputs": []
    },
    {
      "cell_type": "code",
      "source": [
        "from sklearn.ensemble import RandomForestClassifier\n",
        "from sklearn.metrics import accuracy_score\n",
        "\n",
        "# Khởi tạo mô hình Random Forest với số cây con là 100 (có thể điều chỉnh)\n",
        "model = RandomForestClassifier(n_estimators=100)\n",
        "\n",
        "# Huấn luyện mô hình trên dữ liệu huấn luyện (trainX là các đặc trưng, trainY là nhãn)\n",
        "model.fit(trainX, trainY)\n",
        "\n",
        "# Dự đoán nhãn cho dữ liệu validation\n",
        "valid_pred = model.predict(validX)\n",
        "\n",
        "# Đánh giá độ chính xác của mô hình trên tập validation\n",
        "valid_acc = accuracy_score(validY, valid_pred)\n",
        "print(\"Accuracy on validation set:\", valid_acc)\n"
      ],
      "metadata": {
        "id": "Ak04AwfS5mc1"
      },
      "execution_count": null,
      "outputs": []
    },
    {
      "cell_type": "code",
      "source": [
        "import xgboost as xgb\n",
        "from sklearn.metrics import accuracy_score\n",
        "\n",
        "# Khởi tạo mô hình XGBoost với các tham số tùy chỉnh (có thể điều chỉnh)\n",
        "model = xgb.XGBClassifier(n_estimators=100, learning_rate=0.1, max_depth=3)\n",
        "\n",
        "# Huấn luyện mô hình trên dữ liệu huấn luyện (trainX là các đặc trưng, trainY là nhãn)\n",
        "model.fit(trainX, trainY)\n",
        "\n",
        "# Dự đoán nhãn cho dữ liệu validation\n",
        "valid_pred = model.predict(validX)\n",
        "\n",
        "# Đánh giá độ chính xác của mô hình trên tập validation\n",
        "valid_acc = accuracy_score(validY, valid_pred)\n",
        "print(\"Accuracy on validation set:\", valid_acc)\n"
      ],
      "metadata": {
        "id": "8NoNLkSp6G04",
        "colab": {
          "base_uri": "https://localhost:8080/",
          "height": 530
        },
        "outputId": "a5cfc8ad-5a54-4fa4-a128-1d6543119e94"
      },
      "execution_count": 20,
      "outputs": [
        {
          "output_type": "error",
          "ename": "ValueError",
          "evalue": "Invalid classes inferred from unique values of `y`.  Expected: [ 0  1  2  3  4  5  6  7  8  9 10 11 12 13 14 15 16 17 18 19 20 21 22 23\n 24 25 26 27 28 29 30 31 32 33 34 35 36 37 38 39 40 41 42 43 44 45 46 47\n 48 49], got ['Afghanistan' 'Angola' 'Armenia' 'Azerbaijan' 'Bahrain' 'Bangladesh'\n 'Bhutan' 'Brunei' 'Cambodia' 'China' 'Cyprus' 'Georgia' 'India'\n 'Indonesia' 'Iran' 'Iraq' 'Israel' 'Japan' 'Jordan' 'Kazakhstan' 'Kuwait'\n 'Kyrgyzstan' 'Laos' 'Lebanon' 'Malaysia' 'Maldives' 'Mongolia' 'Myanmar'\n 'Nepal' 'North Korea' 'Oman' 'Pakistan' 'Palestine' 'Philippines' 'Qatar'\n 'Russia' 'Saudi Arabia' 'Singapore' 'South Korea' 'Sri Lanka' 'Syria'\n 'Tajikistan' 'Thailand' 'Timor-Leste' 'Turkey' 'Turkmenistan'\n 'United Arab Emirates' 'Uzbekistan' 'Vietnam' 'Yemen']",
          "traceback": [
            "\u001b[0;31m---------------------------------------------------------------------------\u001b[0m",
            "\u001b[0;31mValueError\u001b[0m                                Traceback (most recent call last)",
            "\u001b[0;32m<ipython-input-20-bdeccb4a6087>\u001b[0m in \u001b[0;36m<cell line: 8>\u001b[0;34m()\u001b[0m\n\u001b[1;32m      6\u001b[0m \u001b[0;34m\u001b[0m\u001b[0m\n\u001b[1;32m      7\u001b[0m \u001b[0;31m# Huấn luyện mô hình trên dữ liệu huấn luyện (trainX là các đặc trưng, trainY là nhãn)\u001b[0m\u001b[0;34m\u001b[0m\u001b[0;34m\u001b[0m\u001b[0m\n\u001b[0;32m----> 8\u001b[0;31m \u001b[0mmodel\u001b[0m\u001b[0;34m.\u001b[0m\u001b[0mfit\u001b[0m\u001b[0;34m(\u001b[0m\u001b[0mtrainX\u001b[0m\u001b[0;34m,\u001b[0m \u001b[0mtrainY\u001b[0m\u001b[0;34m)\u001b[0m\u001b[0;34m\u001b[0m\u001b[0;34m\u001b[0m\u001b[0m\n\u001b[0m\u001b[1;32m      9\u001b[0m \u001b[0;34m\u001b[0m\u001b[0m\n\u001b[1;32m     10\u001b[0m \u001b[0;31m# Dự đoán nhãn cho dữ liệu validation\u001b[0m\u001b[0;34m\u001b[0m\u001b[0;34m\u001b[0m\u001b[0m\n",
            "\u001b[0;32m/usr/local/lib/python3.10/dist-packages/xgboost/core.py\u001b[0m in \u001b[0;36minner_f\u001b[0;34m(*args, **kwargs)\u001b[0m\n\u001b[1;32m    728\u001b[0m             \u001b[0;32mfor\u001b[0m \u001b[0mk\u001b[0m\u001b[0;34m,\u001b[0m \u001b[0marg\u001b[0m \u001b[0;32min\u001b[0m \u001b[0mzip\u001b[0m\u001b[0;34m(\u001b[0m\u001b[0msig\u001b[0m\u001b[0;34m.\u001b[0m\u001b[0mparameters\u001b[0m\u001b[0;34m,\u001b[0m \u001b[0margs\u001b[0m\u001b[0;34m)\u001b[0m\u001b[0;34m:\u001b[0m\u001b[0;34m\u001b[0m\u001b[0;34m\u001b[0m\u001b[0m\n\u001b[1;32m    729\u001b[0m                 \u001b[0mkwargs\u001b[0m\u001b[0;34m[\u001b[0m\u001b[0mk\u001b[0m\u001b[0;34m]\u001b[0m \u001b[0;34m=\u001b[0m \u001b[0marg\u001b[0m\u001b[0;34m\u001b[0m\u001b[0;34m\u001b[0m\u001b[0m\n\u001b[0;32m--> 730\u001b[0;31m             \u001b[0;32mreturn\u001b[0m \u001b[0mfunc\u001b[0m\u001b[0;34m(\u001b[0m\u001b[0;34m**\u001b[0m\u001b[0mkwargs\u001b[0m\u001b[0;34m)\u001b[0m\u001b[0;34m\u001b[0m\u001b[0;34m\u001b[0m\u001b[0m\n\u001b[0m\u001b[1;32m    731\u001b[0m \u001b[0;34m\u001b[0m\u001b[0m\n\u001b[1;32m    732\u001b[0m         \u001b[0;32mreturn\u001b[0m \u001b[0minner_f\u001b[0m\u001b[0;34m\u001b[0m\u001b[0;34m\u001b[0m\u001b[0m\n",
            "\u001b[0;32m/usr/local/lib/python3.10/dist-packages/xgboost/sklearn.py\u001b[0m in \u001b[0;36mfit\u001b[0;34m(self, X, y, sample_weight, base_margin, eval_set, eval_metric, early_stopping_rounds, verbose, xgb_model, sample_weight_eval_set, base_margin_eval_set, feature_weights, callbacks)\u001b[0m\n\u001b[1;32m   1469\u001b[0m                 \u001b[0;32mor\u001b[0m \u001b[0;32mnot\u001b[0m \u001b[0;34m(\u001b[0m\u001b[0mclasses\u001b[0m \u001b[0;34m==\u001b[0m \u001b[0mexpected_classes\u001b[0m\u001b[0;34m)\u001b[0m\u001b[0;34m.\u001b[0m\u001b[0mall\u001b[0m\u001b[0;34m(\u001b[0m\u001b[0;34m)\u001b[0m\u001b[0;34m\u001b[0m\u001b[0;34m\u001b[0m\u001b[0m\n\u001b[1;32m   1470\u001b[0m             ):\n\u001b[0;32m-> 1471\u001b[0;31m                 raise ValueError(\n\u001b[0m\u001b[1;32m   1472\u001b[0m                     \u001b[0;34mf\"Invalid classes inferred from unique values of `y`.  \"\u001b[0m\u001b[0;34m\u001b[0m\u001b[0;34m\u001b[0m\u001b[0m\n\u001b[1;32m   1473\u001b[0m                     \u001b[0;34mf\"Expected: {expected_classes}, got {classes}\"\u001b[0m\u001b[0;34m\u001b[0m\u001b[0;34m\u001b[0m\u001b[0m\n",
            "\u001b[0;31mValueError\u001b[0m: Invalid classes inferred from unique values of `y`.  Expected: [ 0  1  2  3  4  5  6  7  8  9 10 11 12 13 14 15 16 17 18 19 20 21 22 23\n 24 25 26 27 28 29 30 31 32 33 34 35 36 37 38 39 40 41 42 43 44 45 46 47\n 48 49], got ['Afghanistan' 'Angola' 'Armenia' 'Azerbaijan' 'Bahrain' 'Bangladesh'\n 'Bhutan' 'Brunei' 'Cambodia' 'China' 'Cyprus' 'Georgia' 'India'\n 'Indonesia' 'Iran' 'Iraq' 'Israel' 'Japan' 'Jordan' 'Kazakhstan' 'Kuwait'\n 'Kyrgyzstan' 'Laos' 'Lebanon' 'Malaysia' 'Maldives' 'Mongolia' 'Myanmar'\n 'Nepal' 'North Korea' 'Oman' 'Pakistan' 'Palestine' 'Philippines' 'Qatar'\n 'Russia' 'Saudi Arabia' 'Singapore' 'South Korea' 'Sri Lanka' 'Syria'\n 'Tajikistan' 'Thailand' 'Timor-Leste' 'Turkey' 'Turkmenistan'\n 'United Arab Emirates' 'Uzbekistan' 'Vietnam' 'Yemen']"
          ]
        }
      ]
    },
    {
      "cell_type": "code",
      "source": [
        "from sklearn.preprocessing import LabelEncoder\n",
        "\n",
        "# Khởi tạo một LabelEncoder\n",
        "label_encoder = LabelEncoder()\n",
        "\n",
        "# Chuyển đổi các nhãn từ chuỗi sang số nguyên\n",
        "trainY_encoded = label_encoder.fit_transform(trainY)\n",
        "validY_encoded = label_encoder.transform(validY)  # Chúng ta chỉ sử dụng transform ở đây vì đã fit trên trainY\n",
        "\n",
        "# Khởi tạo mô hình XGBoost với các tham số tùy chỉnh (có thể điều chỉnh)\n",
        "model = xgb.XGBClassifier(n_estimators=100, learning_rate=0.1, max_depth=3)\n",
        "\n",
        "# Huấn luyện mô hình trên dữ liệu huấn luyện (trainX là các đặc trưng, trainY_encoded là nhãn đã được chuyển đổi)\n",
        "model.fit(trainX, trainY_encoded)\n",
        "\n",
        "# Dự đoán nhãn cho dữ liệu validation\n",
        "valid_pred = model.predict(validX)\n",
        "\n",
        "# Đánh giá độ chính xác của mô hình trên tập validation\n",
        "valid_acc = accuracy_score(validY_encoded, valid_pred)\n",
        "print(\"Accuracy on validation set:\", valid_acc)\n"
      ],
      "metadata": {
        "id": "hdJQ3eWO6zYx"
      },
      "execution_count": null,
      "outputs": []
    },
    {
      "cell_type": "code",
      "source": [
        "from sklearn.naive_bayes import GaussianNB\n",
        "from sklearn.metrics import accuracy_score\n",
        "\n",
        "# Khởi tạo mô hình Naive Bayes (Gaussian Naive Bayes)\n",
        "model = GaussianNB()\n",
        "\n",
        "# Huấn luyện mô hình trên dữ liệu huấn luyện (trainX là các đặc trưng, trainY là nhãn)\n",
        "model.fit(trainX, trainY)\n",
        "\n",
        "# Dự đoán nhãn cho dữ liệu validation\n",
        "valid_pred = model.predict(validX)\n",
        "\n",
        "# Đánh giá độ chính xác của mô hình trên tập validation\n",
        "valid_acc = accuracy_score(validY, valid_pred)\n",
        "print(\"Accuracy on validation set:\", valid_acc)\n"
      ],
      "metadata": {
        "colab": {
          "base_uri": "https://localhost:8080/"
        },
        "id": "tc9Mp-ygjVy9",
        "outputId": "167c71d3-c2a9-4e0f-b141-b5c38aa8d9b0"
      },
      "execution_count": 4,
      "outputs": [
        {
          "output_type": "stream",
          "name": "stdout",
          "text": [
            "Accuracy on validation set: 0.7244094488188977\n"
          ]
        }
      ]
    },
    {
      "cell_type": "code",
      "source": [
        "image_path = \"/gdrive/MyDrive/TrainModel/Dataset/train/Laos.7.jpg\"\n",
        "from google.colab.patches import cv2_imshow\n",
        "image = cv2.imread(image_path)\n",
        "cv2_imshow(image)\n",
        "# Trích xuất đặc trưng từ ảnh\n",
        "hist =  extract_color_histogram(image)\n",
        "\n",
        "# Reshape đặc trưng để phù hợp với mô hình\n",
        "hist = hist.reshape(1,-1)\n",
        "\n",
        "# Dự đoán nhãn của ảnh\n",
        "predicted_label = bagging_model.predict(hist)\n",
        "\n",
        "# In kết quả dự đoán\n",
        "print(\"Predicted label:\", predicted_label)"
      ],
      "metadata": {
        "colab": {
          "base_uri": "https://localhost:8080/",
          "height": 354
        },
        "id": "Lujcxtbvj-BU",
        "outputId": "48ec81c9-b767-4f8d-e321-9039bae68b0d"
      },
      "execution_count": null,
      "outputs": [
        {
          "output_type": "display_data",
          "data": {
            "text/plain": [
              "<PIL.Image.Image image mode=RGB size=320x320>"
            ],
            "image/png": "[encoded data removed]"
          },
          "metadata": {}
        },
        {
          "output_type": "stream",
          "name": "stdout",
          "text": [
            "Predicted label: ['Laos']\n"
          ]
        }
      ]
    },
    {
      "cell_type": "code",
      "source": [
        "from sklearn.ensemble import BaggingClassifier\n",
        "from sklearn.tree import DecisionTreeClassifier\n",
        "from sklearn.metrics import accuracy_score\n",
        "\n",
        "# Khởi tạo mô hình Decision Tree\n",
        "base_model = DecisionTreeClassifier()\n",
        "\n",
        "# Khởi tạo mô hình Bagging với Decision Tree làm mô hình cơ sở\n",
        "bagging_model = BaggingClassifier(base_model, n_estimators=120)\n",
        "\n",
        "# Huấn luyện mô hình trên dữ liệu huấn luyện (trainX là các đặc trưng, trainY là nhãn)\n",
        "bagging_model.fit(trainX, trainY)\n",
        "\n",
        "# Dự đoán nhãn cho dữ liệu validation\n",
        "valid_pred = bagging_model.predict(validX)\n",
        "\n",
        "# Đánh giá độ chính xác của mô hình trên tập validation\n",
        "valid_acc = accuracy_score(validY, valid_pred)\n",
        "print(\"Accuracy on validation set (Bagging):\", valid_acc)\n"
      ],
      "metadata": {
        "colab": {
          "base_uri": "https://localhost:8080/"
        },
        "id": "i0Wx-RV2lZrG",
        "outputId": "5208d8df-d029-498b-d383-b42abbea9da4"
      },
      "execution_count": null,
      "outputs": [
        {
          "output_type": "stream",
          "name": "stdout",
          "text": [
            "Accuracy on validation set (Bagging): 0.8858267716535433\n"
          ]
        }
      ]
    },
    {
      "cell_type": "code",
      "source": [
        "from sklearn.ensemble import RandomForestClassifier\n",
        "from sklearn.metrics import accuracy_score\n",
        "\n",
        "# Khởi tạo mô hình Random Forest với 10 cây quyết định\n",
        "rf_model = RandomForestClassifier(n_estimators=50)\n",
        "\n",
        "# Huấn luyện mô hình trên dữ liệu huấn luyện (trainX là các đặc trưng, trainY là nhãn)\n",
        "rf_model.fit(trainX, trainY)\n",
        "\n",
        "# Dự đoán nhãn cho dữ liệu validation\n",
        "valid_pred = rf_model.predict(validX)\n",
        "\n",
        "# Đánh giá độ chính xác của mô hình trên tập validation\n",
        "valid_acc = accuracy_score(validY, valid_pred)\n",
        "print(\"Accuracy on validation set (Random Forest):\", valid_acc)\n"
      ],
      "metadata": {
        "colab": {
          "base_uri": "https://localhost:8080/"
        },
        "id": "K4vBkkmjrkpu",
        "outputId": "0b3b22db-e991-4a56-a97e-87e352def253"
      },
      "execution_count": 26,
      "outputs": [
        {
          "output_type": "stream",
          "name": "stdout",
          "text": [
            "Accuracy on validation set (Random Forest): 0.8818897637795275\n"
          ]
        }
      ]
    },
    {
      "cell_type": "code",
      "source": [
        "from sklearn.metrics import classification_report\n",
        "\n",
        "# Dùng mô hình đã huấn luyện để dự đoán trên tập validation\n",
        "#valid_pred = rf_model.predict(validX)\n",
        "valid_pred = rf_model.predict(validX)\n",
        "# Tính toán các giá trị đánh giá\n",
        "report = classification_report(validY, valid_pred)\n",
        "\n",
        "# In ra báo cáo\n",
        "print(\"Classification Report:\")\n",
        "print(report)\n"
      ],
      "metadata": {
        "colab": {
          "base_uri": "https://localhost:8080/"
        },
        "id": "7VfafkvuYnKr",
        "outputId": "e84994c6-201b-4364-c8ae-4012ff84b4e6"
      },
      "execution_count": 18,
      "outputs": [
        {
          "output_type": "stream",
          "name": "stdout",
          "text": [
            "Classification Report:\n",
            "                      precision    recall  f1-score   support\n",
            "\n",
            "         Afghanistan       1.00      1.00      1.00         9\n",
            "             Armenia       0.40      0.75      0.52         8\n",
            "          Azerbaijan       1.00      1.00      1.00        11\n",
            "             Bahrain       0.82      0.90      0.86        10\n",
            "          Bangladesh       1.00      1.00      1.00         8\n",
            "              Bhutan       1.00      1.00      1.00        11\n",
            "              Brunei       1.00      1.00      1.00        12\n",
            "            Cambodia       1.00      1.00      1.00        19\n",
            "               China       0.93      1.00      0.96        13\n",
            "              Cyprus       1.00      1.00      1.00         7\n",
            "             Georgia       1.00      1.00      1.00        10\n",
            "               India       1.00      1.00      1.00        12\n",
            "           Indonesia       1.00      1.00      1.00        17\n",
            "                Iran       1.00      0.90      0.95        10\n",
            "                Iraq       0.29      0.29      0.29         7\n",
            "              Israel       1.00      1.00      1.00         5\n",
            "               Japan       1.00      0.86      0.92        14\n",
            "              Jordan       0.28      0.56      0.37         9\n",
            "          Kazakhstan       1.00      1.00      1.00        14\n",
            "              Kuwait       0.73      0.89      0.80         9\n",
            "          Kyrgyzstan       1.00      1.00      1.00        10\n",
            "                Laos       1.00      1.00      1.00         9\n",
            "             Lebanon       0.90      0.90      0.90        10\n",
            "            Malaysia       1.00      1.00      1.00         6\n",
            "            Maldives       0.92      1.00      0.96        11\n",
            "            Mongolia       0.82      1.00      0.90         9\n",
            "             Myanmar       1.00      1.00      1.00         9\n",
            "               Nepal       0.92      1.00      0.96        12\n",
            "         North Korea       1.00      1.00      1.00         8\n",
            "                Oman       0.00      0.00      0.00        13\n",
            "            Pakistan       1.00      1.00      1.00         7\n",
            "           Palestine       0.71      0.28      0.40        18\n",
            "         Philippines       1.00      1.00      1.00        10\n",
            "               Qatar       0.93      1.00      0.97        14\n",
            "              Russia       0.71      1.00      0.83        10\n",
            "        Saudi Arabia       1.00      1.00      1.00         9\n",
            "           Singapore       0.77      1.00      0.87        10\n",
            "         South Korea       1.00      0.86      0.92         7\n",
            "           Sri Lanka       1.00      1.00      1.00        11\n",
            "               Syria       0.56      0.45      0.50        11\n",
            "          Tajikistan       1.00      1.00      1.00         4\n",
            "            Thailand       1.00      1.00      1.00         8\n",
            "         Timor-Leste       1.00      1.00      1.00         9\n",
            "              Turkey       1.00      1.00      1.00        13\n",
            "        Turkmenistan       1.00      1.00      1.00        12\n",
            "United Arab Emirates       1.00      1.00      1.00         8\n",
            "          Uzbekistan       1.00      1.00      1.00        15\n",
            "             Vietnam       1.00      0.89      0.94         9\n",
            "               Yemen       1.00      0.91      0.95        11\n",
            "\n",
            "            accuracy                           0.90       508\n",
            "           macro avg       0.89      0.91      0.89       508\n",
            "        weighted avg       0.89      0.90      0.89       508\n",
            "\n"
          ]
        },
        {
          "output_type": "stream",
          "name": "stderr",
          "text": [
            "/usr/local/lib/python3.10/dist-packages/sklearn/metrics/_classification.py:1344: UndefinedMetricWarning: Precision and F-score are ill-defined and being set to 0.0 in labels with no predicted samples. Use `zero_division` parameter to control this behavior.\n",
            "  _warn_prf(average, modifier, msg_start, len(result))\n",
            "/usr/local/lib/python3.10/dist-packages/sklearn/metrics/_classification.py:1344: UndefinedMetricWarning: Precision and F-score are ill-defined and being set to 0.0 in labels with no predicted samples. Use `zero_division` parameter to control this behavior.\n",
            "  _warn_prf(average, modifier, msg_start, len(result))\n",
            "/usr/local/lib/python3.10/dist-packages/sklearn/metrics/_classification.py:1344: UndefinedMetricWarning: Precision and F-score are ill-defined and being set to 0.0 in labels with no predicted samples. Use `zero_division` parameter to control this behavior.\n",
            "  _warn_prf(average, modifier, msg_start, len(result))\n"
          ]
        }
      ]
    },
    {
      "cell_type": "code",
      "source": [
        "from sklearn.metrics import classification_report\n",
        "\n",
        "# Dùng mô hình đã huấn luyện để dự đoán trên tập validation\n",
        "#valid_pred = rf_model.predict(validX)\n",
        "test_pred = rf_model.predict(testX)\n",
        "# Tính toán các giá trị đánh giá\n",
        "report = classification_report(testY, test_pred)\n",
        "\n",
        "# In ra báo cáo\n",
        "print(\"Classification Report:\")\n",
        "print(report)\n"
      ],
      "metadata": {
        "colab": {
          "base_uri": "https://localhost:8080/"
        },
        "id": "7mXq5XycJ41s",
        "outputId": "aa321e61-ff6b-46da-eab3-af67260feaf5"
      },
      "execution_count": 17,
      "outputs": [
        {
          "output_type": "stream",
          "name": "stdout",
          "text": [
            "Classification Report:\n",
            "                      precision    recall  f1-score   support\n",
            "\n",
            "         Afghanistan       1.00      1.00      1.00         1\n",
            "             Armenia       0.67      0.67      0.67         3\n",
            "          Azerbaijan       1.00      1.00      1.00         1\n",
            "             Bahrain       1.00      1.00      1.00         1\n",
            "          Bangladesh       1.00      1.00      1.00         5\n",
            "              Brunei       1.00      1.00      1.00         5\n",
            "            Cambodia       1.00      1.00      1.00         1\n",
            "               China       1.00      1.00      1.00         1\n",
            "              Cyprus       1.00      1.00      1.00         4\n",
            "             Georgia       1.00      1.00      1.00         2\n",
            "               India       1.00      1.00      1.00         1\n",
            "           Indonesia       1.00      1.00      1.00         3\n",
            "                Iran       1.00      1.00      1.00         4\n",
            "                Iraq       0.50      0.67      0.57         3\n",
            "              Israel       1.00      1.00      1.00         1\n",
            "               Japan       1.00      0.60      0.75         5\n",
            "              Jordan       1.00      1.00      1.00         3\n",
            "          Kazakhstan       1.00      1.00      1.00         1\n",
            "              Kuwait       1.00      1.00      1.00         4\n",
            "          Kyrgyzstan       1.00      1.00      1.00         5\n",
            "                Laos       1.00      1.00      1.00         4\n",
            "             Lebanon       1.00      1.00      1.00         2\n",
            "            Malaysia       1.00      1.00      1.00         3\n",
            "            Maldives       1.00      1.00      1.00         2\n",
            "            Mongolia       0.80      1.00      0.89         4\n",
            "             Myanmar       1.00      1.00      1.00         3\n",
            "               Nepal       1.00      1.00      1.00         3\n",
            "         North Korea       1.00      1.00      1.00         4\n",
            "                Oman       0.00      0.00      0.00         1\n",
            "            Pakistan       1.00      1.00      1.00         1\n",
            "         Philippines       1.00      1.00      1.00         4\n",
            "               Qatar       0.50      1.00      0.67         1\n",
            "              Russia       1.00      1.00      1.00         3\n",
            "        Saudi Arabia       1.00      1.00      1.00         1\n",
            "           Singapore       0.50      1.00      0.67         1\n",
            "           Sri Lanka       1.00      1.00      1.00         3\n",
            "               Syria       0.67      0.50      0.57         4\n",
            "          Tajikistan       1.00      1.00      1.00         2\n",
            "            Thailand       1.00      1.00      1.00         1\n",
            "         Timor-Leste       1.00      1.00      1.00         1\n",
            "              Turkey       1.00      1.00      1.00         2\n",
            "        Turkmenistan       1.00      1.00      1.00         5\n",
            "United Arab Emirates       1.00      1.00      1.00         3\n",
            "          Uzbekistan       1.00      1.00      1.00         2\n",
            "             Vietnam       1.00      1.00      1.00         3\n",
            "               Yemen       1.00      1.00      1.00         2\n",
            "\n",
            "            accuracy                           0.94       119\n",
            "           macro avg       0.93      0.94      0.93       119\n",
            "        weighted avg       0.94      0.94      0.94       119\n",
            "\n"
          ]
        },
        {
          "output_type": "stream",
          "name": "stderr",
          "text": [
            "/usr/local/lib/python3.10/dist-packages/sklearn/metrics/_classification.py:1344: UndefinedMetricWarning: Precision and F-score are ill-defined and being set to 0.0 in labels with no predicted samples. Use `zero_division` parameter to control this behavior.\n",
            "  _warn_prf(average, modifier, msg_start, len(result))\n",
            "/usr/local/lib/python3.10/dist-packages/sklearn/metrics/_classification.py:1344: UndefinedMetricWarning: Precision and F-score are ill-defined and being set to 0.0 in labels with no predicted samples. Use `zero_division` parameter to control this behavior.\n",
            "  _warn_prf(average, modifier, msg_start, len(result))\n",
            "/usr/local/lib/python3.10/dist-packages/sklearn/metrics/_classification.py:1344: UndefinedMetricWarning: Precision and F-score are ill-defined and being set to 0.0 in labels with no predicted samples. Use `zero_division` parameter to control this behavior.\n",
            "  _warn_prf(average, modifier, msg_start, len(result))\n"
          ]
        }
      ]
    },
    {
      "cell_type": "code",
      "source": [
        "image_path = \"/gdrive/MyDrive/TrainModel/Dataset/test/Yemen.1.jpg\"\n",
        "from google.colab.patches import cv2_imshow\n",
        "image = cv2.imread(image_path)\n",
        "cv2_imshow(image)\n",
        "# Trích xuất đặc trưng từ ảnh\n",
        "hist =  extract_color_histogram(image)\n",
        "\n",
        "# Reshape đặc trưng để phù hợp với mô hình\n",
        "hist = hist.reshape(1,-1)\n",
        "\n",
        "# Dự đoán nhãn của ảnh\n",
        "predicted_label = rf_model.predict(hist)\n",
        "probabilities = model.predict_proba(hist)\n",
        "\n",
        "# Tìm chỉ mục của nhãn được dự đoán trong danh sách nhãn của mô hình\n",
        "label_index = np.where(model.classes_ == predicted_label)[0][0]\n",
        "\n",
        "# In độ chính xác cho nhãn được dự đoán\n",
        "print(\"Accuracy:\", probabilities[0][label_index])\n",
        "# In kết quả dự đoán\n",
        "print(\"Predicted label:\", predicted_label)"
      ],
      "metadata": {
        "colab": {
          "base_uri": "https://localhost:8080/",
          "height": 372
        },
        "id": "iMB-UveCs88R",
        "outputId": "eae21848-4ab2-4394-aef5-8adc88f7c2c5"
      },
      "execution_count": null,
      "outputs": [
        {
          "output_type": "display_data",
          "data": {
            "text/plain": [
              "<PIL.Image.Image image mode=RGB size=320x320>"
            ],
            "image/png": "[encoded data removed]"
          },
          "metadata": {}
        },
        {
          "output_type": "stream",
          "name": "stdout",
          "text": [
            "Accuracy: 1.0\n",
            "Predicted label: ['Yemen']\n"
          ]
        }
      ]
    },
    {
      "cell_type": "code",
      "source": [
        "from sklearn.tree import DecisionTreeClassifier\n",
        "from sklearn.metrics import accuracy_score\n",
        "\n",
        "# Khởi tạo mô hình Decision Tree\n",
        "model = DecisionTreeClassifier()\n",
        "\n",
        "# Huấn luyện mô hình trên dữ liệu huấn luyện (trainX là các đặc trưng, trainY là nhãn)\n",
        "model.fit(trainX, trainY)\n",
        "\n",
        "# Dự đoán nhãn cho dữ liệu validation\n",
        "valid_pred = model.predict(validX)\n",
        "\n",
        "# Đánh giá độ chính xác của mô hình trên tập validation\n",
        "valid_acc = accuracy_score(validY, valid_pred)\n",
        "print(\"Accuracy on validation set:\", valid_acc)\n"
      ],
      "metadata": {
        "colab": {
          "base_uri": "https://localhost:8080/"
        },
        "id": "iQ72La2XtF9C",
        "outputId": "9c9fa145-78ac-46a8-dca5-14be3d4ad090"
      },
      "execution_count": null,
      "outputs": [
        {
          "output_type": "stream",
          "name": "stdout",
          "text": [
            "Accuracy on validation set: 0.639763779527559\n"
          ]
        }
      ]
    },
    {
      "cell_type": "code",
      "source": [
        "# import dependencies\n",
        "from IPython.display import display, Javascript, Image\n",
        "from google.colab.output import eval_js\n",
        "from google.colab.patches import cv2_imshow\n",
        "from base64 import b64decode, b64encode\n",
        "import cv2\n",
        "import numpy as np\n",
        "import PIL\n",
        "import io\n",
        "import html\n",
        "import time\n",
        "import matplotlib.pyplot as plt\n",
        "%matplotlib inline"
      ],
      "metadata": {
        "id": "pTvPIVrx82FE"
      },
      "execution_count": null,
      "outputs": []
    },
    {
      "cell_type": "code",
      "source": [
        "# JavaScript to properly create our live video stream using our webcam as input\n",
        "def video_stream():\n",
        "  js = Javascript('''\n",
        "    var video;\n",
        "    var div = null;\n",
        "    var stream;\n",
        "    var captureCanvas;\n",
        "    var imgElement;\n",
        "    var labelElement;\n",
        "\n",
        "    var pendingResolve = null;\n",
        "    var shutdown = false;\n",
        "\n",
        "    function removeDom() {\n",
        "       stream.getVideoTracks()[0].stop();\n",
        "       video.remove();\n",
        "       div.remove();\n",
        "       video = null;\n",
        "       div = null;\n",
        "       stream = null;\n",
        "       imgElement = null;\n",
        "       captureCanvas = null;\n",
        "       labelElement = null;\n",
        "    }\n",
        "\n",
        "    function onAnimationFrame() {\n",
        "      if (!shutdown) {\n",
        "        window.requestAnimationFrame(onAnimationFrame);\n",
        "      }\n",
        "      if (pendingResolve) {\n",
        "        var result = \"\";\n",
        "        if (!shutdown) {\n",
        "          captureCanvas.getContext('2d').drawImage(video, 0, 0, 640, 480);\n",
        "          result = captureCanvas.toDataURL('image/jpeg', 0.8)\n",
        "        }\n",
        "        var lp = pendingResolve;\n",
        "        pendingResolve = null;\n",
        "        lp(result);\n",
        "      }\n",
        "    }\n",
        "\n",
        "    async function createDom() {\n",
        "      if (div !== null) {\n",
        "        return stream;\n",
        "      }\n",
        "\n",
        "      div = document.createElement('div');\n",
        "      div.style.border = '2px solid black';\n",
        "      div.style.padding = '3px';\n",
        "      div.style.width = '100%';\n",
        "      div.style.maxWidth = '600px';\n",
        "      document.body.appendChild(div);\n",
        "\n",
        "      const modelOut = document.createElement('div');\n",
        "      modelOut.innerHTML = \"<span>Status:</span>\";\n",
        "      labelElement = document.createElement('span');\n",
        "      labelElement.innerText = 'No data';\n",
        "      labelElement.style.fontWeight = 'bold';\n",
        "      modelOut.appendChild(labelElement);\n",
        "      div.appendChild(modelOut);\n",
        "\n",
        "      video = document.createElement('video');\n",
        "      video.style.display = 'block';\n",
        "      video.width = div.clientWidth - 6;\n",
        "      video.setAttribute('playsinline', '');\n",
        "      video.onclick = () => { shutdown = true; };\n",
        "      stream = await navigator.mediaDevices.getUserMedia(\n",
        "          {video: { facingMode: \"environment\"}});\n",
        "      div.appendChild(video);\n",
        "\n",
        "      imgElement = document.createElement('img');\n",
        "      imgElement.style.position = 'absolute';\n",
        "      imgElement.style.zIndex = 1;\n",
        "      imgElement.onclick = () => { shutdown = true; };\n",
        "      div.appendChild(imgElement);\n",
        "\n",
        "      const instruction = document.createElement('div');\n",
        "      instruction.innerHTML =\n",
        "          '<span style=\"color: red; font-weight: bold;\">' +\n",
        "          'When finished, click here or on the video to stop this demo</span>';\n",
        "      div.appendChild(instruction);\n",
        "      instruction.onclick = () => { shutdown = true; };\n",
        "\n",
        "      video.srcObject = stream;\n",
        "      await video.play();\n",
        "\n",
        "      captureCanvas = document.createElement('canvas');\n",
        "      captureCanvas.width = 640; //video.videoWidth;\n",
        "      captureCanvas.height = 480; //video.videoHeight;\n",
        "      window.requestAnimationFrame(onAnimationFrame);\n",
        "\n",
        "      return stream;\n",
        "    }\n",
        "    async function stream_frame(label, imgData) {\n",
        "      if (shutdown) {\n",
        "        removeDom();\n",
        "        shutdown = false;\n",
        "        return '';\n",
        "      }\n",
        "\n",
        "      var preCreate = Date.now();\n",
        "      stream = await createDom();\n",
        "\n",
        "      var preShow = Date.now();\n",
        "      if (label != \"\") {\n",
        "        labelElement.innerHTML = label;\n",
        "      }\n",
        "\n",
        "      if (imgData != \"\") {\n",
        "        var videoRect = video.getClientRects()[0];\n",
        "        imgElement.style.top = videoRect.top + \"px\";\n",
        "        imgElement.style.left = videoRect.left + \"px\";\n",
        "        imgElement.style.width = videoRect.width + \"px\";\n",
        "        imgElement.style.height = videoRect.height + \"px\";\n",
        "        imgElement.src = imgData;\n",
        "      }\n",
        "\n",
        "      var preCapture = Date.now();\n",
        "      var result = await new Promise(function(resolve, reject) {\n",
        "        pendingResolve = resolve;\n",
        "      });\n",
        "      shutdown = false;\n",
        "\n",
        "      return {'create': preShow - preCreate,\n",
        "              'show': preCapture - preShow,\n",
        "              'capture': Date.now() - preCapture,\n",
        "              'img': result};\n",
        "    }\n",
        "    ''')\n",
        "\n",
        "  display(js)\n",
        "\n",
        "def video_frame(label, bbox):\n",
        "  data = eval_js('stream_frame(\"{}\", \"{}\")'.format(label, bbox))\n",
        "  return data"
      ],
      "metadata": {
        "id": "nAN4KxME841F"
      },
      "execution_count": null,
      "outputs": []
    },
    {
      "cell_type": "code",
      "source": [
        "# function to convert the JavaScript object into an OpenCV image\n",
        "def js_to_image(js_reply):\n",
        "  \"\"\"\n",
        "  Params:\n",
        "          js_reply: JavaScript object containing image from webcam\n",
        "  Returns:\n",
        "          img: OpenCV BGR image\n",
        "  \"\"\"\n",
        "  # decode base64 image\n",
        "  image_bytes = b64decode(js_reply.split(',')[1])\n",
        "  # convert bytes to numpy array\n",
        "  jpg_as_np = np.frombuffer(image_bytes, dtype=np.uint8)\n",
        "  # decode numpy array into OpenCV BGR image\n",
        "  img = cv2.imdecode(jpg_as_np, flags=1)\n",
        "\n",
        "  return img\n",
        "\n",
        "# function to convert OpenCV Rectangle bounding box image into base64 byte string to be overlayed on video stream\n",
        "def bbox_to_bytes(bbox_array):\n",
        "  \"\"\"\n",
        "  Params:\n",
        "          bbox_array: Numpy array (pixels) containing rectangle to overlay on video stream.\n",
        "  Returns:\n",
        "        bytes: Base64 image byte string\n",
        "  \"\"\"\n",
        "  # convert array into PIL image\n",
        "  bbox_PIL = PIL.Image.fromarray(bbox_array, 'RGBA')\n",
        "  iobuf = io.BytesIO()\n",
        "  # format bbox into png for return\n",
        "  bbox_PIL.save(iobuf, format='png')\n",
        "  # format return string\n",
        "  bbox_bytes = 'data:image/png;base64,{}'.format((str(b64encode(iobuf.getvalue()), 'utf-8')))\n",
        "\n",
        "  return bbox_bytes\n",
        "\n",
        "\n",
        "def frame_to_image(frame_data):\n",
        "    # Decode base64 image\n",
        "    image_bytes = b64decode(frame_data.split(',')[1])\n",
        "    # Convert bytes to numpy array\n",
        "    jpg_as_np = np.frombuffer(image_bytes, dtype=np.uint8)\n",
        "    # Decode numpy array into OpenCV BGR image\n",
        "    img = cv2.imdecode(jpg_as_np, flags=1)\n",
        "    return img\n",
        "\n",
        "# Sử dụng hàm frame_to_image để chuyển đổi kiểu dữ liệu của biến frame\n",
        "\n",
        "\n",
        "\n",
        "\n"
      ],
      "metadata": {
        "id": "hFOj77k0853W"
      },
      "execution_count": null,
      "outputs": []
    },
    {
      "cell_type": "code",
      "source": [
        "# start streaming video from webcam\n",
        "video_stream()\n",
        "# label for video\n",
        "label_html = 'Capturing...'\n",
        "# initialze bounding box to empty\n",
        "bbox = ''\n",
        "count = 0\n",
        "while True:\n",
        "    js_reply = video_frame(label_html, bbox)\n",
        "    if not js_reply:\n",
        "        break\n",
        "\n",
        "    # convert JS response to OpenCV Image\n",
        "    frame = js_to_image(js_reply[\"img\"])\n",
        "    hist =  extract_color_histogram(frame)\n",
        "\n",
        "# Reshape đặc trưng để phù hợp với mô hình\n",
        "    hist = hist.reshape(1,-1)\n",
        "\n",
        "# Dự đoán nhãn của ảnh\n",
        "    predicted_label = rf_model.predict(hist)\n",
        "\n",
        "# In kết quả dự đoán\n",
        "    print(\"Predicted label:\", predicted_label)"
      ],
      "metadata": {
        "id": "FFQZSqlq88zd"
      },
      "execution_count": null,
      "outputs": []
    },
    {
      "cell_type": "code",
      "source": [
        "from sklearn.svm import SVC\n",
        "from sklearn.metrics import accuracy_score\n",
        "\n",
        "# Khởi tạo mô hình SVM (Support Vector Machine)\n",
        "model = SVC()\n",
        "\n",
        "# Huấn luyện mô hình trên dữ liệu huấn luyện (trainX là các đặc trưng, trainY là nhãn)\n",
        "model.fit(trainX, trainY)\n",
        "\n",
        "# Dự đoán nhãn cho dữ liệu validation\n",
        "valid_pred = model.predict(validX)\n",
        "\n",
        "# Đánh giá độ chính xác của mô hình trên tập validation\n",
        "valid_acc = accuracy_score(validY, valid_pred)\n",
        "print(\"Accuracy on validation set:\", valid_acc)\n"
      ],
      "metadata": {
        "colab": {
          "base_uri": "https://localhost:8080/"
        },
        "id": "37tugvaMVpkr",
        "outputId": "cc55b1a1-0776-415f-ba42-ff95ac024de9"
      },
      "execution_count": 5,
      "outputs": [
        {
          "output_type": "stream",
          "name": "stdout",
          "text": [
            "Accuracy on validation set: 0.45866141732283466\n"
          ]
        }
      ]
    }
  ]
}